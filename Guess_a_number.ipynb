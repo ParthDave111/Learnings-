{
  "nbformat": 4,
  "nbformat_minor": 0,
  "metadata": {
    "colab": {
      "provenance": [],
      "authorship_tag": "ABX9TyNSig8AgQHBdYSyqWfTdXMu",
      "include_colab_link": true
    },
    "kernelspec": {
      "name": "python3",
      "display_name": "Python 3"
    },
    "language_info": {
      "name": "python"
    }
  },
  "cells": [
    {
      "cell_type": "markdown",
      "metadata": {
        "id": "view-in-github",
        "colab_type": "text"
      },
      "source": [
        "<a href=\"https://colab.research.google.com/github/ParthDave111/Learnings-/blob/main/Guess_a_number.ipynb\" target=\"_parent\"><img src=\"https://colab.research.google.com/assets/colab-badge.svg\" alt=\"Open In Colab\"/></a>"
      ]
    },
    {
      "cell_type": "code",
      "execution_count": 1,
      "metadata": {
        "id": "YMOFbIlyc6tm"
      },
      "outputs": [],
      "source": [
        "def ask_for_guess(max_value, trial):\n",
        "    print(\"Guess a natural number between 1 and \", max_value, \"!\")\n",
        "    text = print(\"Trial \", trial, \" - Your guess:\")\n",
        "    guess = input(text)\n",
        "\n",
        "    try:\n",
        "        guess = int(guess)\n",
        "        succ = True\n",
        "    except ValueError:\n",
        "        succ = False\n",
        "\n",
        "    if (succ == False):\n",
        "        print(\"Please provide a natural number!\")\n",
        "        guess = ask_for_guess(max_value, trial)\n",
        "\n",
        "    return guess"
      ]
    },
    {
      "cell_type": "code",
      "source": [
        "import random\n",
        "\n",
        "def guess_a_number(max_value = 100, number_of_trials = 10):\n",
        "    \"\"\"\n",
        "    Function do initialize the game.\n",
        "    You can adapt the number of maximum trials as well as the value range\n",
        "    \"\"\"\n",
        "    secret_number = random.choice(range(1, max_value))\n",
        "\n",
        "    trial = 1\n",
        "    success = False\n",
        "\n",
        "    while (trial <= number_of_trials):\n",
        "        guess = ask_for_guess(max_value, trial)\n",
        "\n",
        "        if (guess == secret_number):\n",
        "            print(\"Congratulation! You have sucessfully guess the right number in \", trial, \" trials.\")\n",
        "            success = True\n",
        "            break\n",
        "        elif (guess < secret_number):\n",
        "            print(\"The number is bigger!\")\n",
        "        else:\n",
        "            print(\"The number is smaller!\")\n",
        "\n",
        "        print(number_of_trials - trial, \" trials left.\")\n",
        "        trial += 1\n",
        "\n",
        "    if (success == False):\n",
        "        print(\"Sorry, game over you exceeded your maximum trial count!\")"
      ],
      "metadata": {
        "id": "_sSJjDHIc99D"
      },
      "execution_count": 2,
      "outputs": []
    },
    {
      "cell_type": "code",
      "source": [
        "guess_a_number(10, 3)"
      ],
      "metadata": {
        "colab": {
          "base_uri": "https://localhost:8080/"
        },
        "id": "FXDvKQemdBkS",
        "outputId": "5d2cc2aa-6f7a-4846-de75-30e2b05dcff6"
      },
      "execution_count": 8,
      "outputs": [
        {
          "output_type": "stream",
          "name": "stdout",
          "text": [
            "Guess a natural number between 1 and  10 !\n",
            "Trial  1  - Your guess:\n",
            "None8\n",
            "The number is smaller!\n",
            "2  trials left.\n",
            "Guess a natural number between 1 and  10 !\n",
            "Trial  2  - Your guess:\n",
            "None19\n",
            "The number is smaller!\n",
            "1  trials left.\n",
            "Guess a natural number between 1 and  10 !\n",
            "Trial  3  - Your guess:\n",
            "None10\n",
            "The number is smaller!\n",
            "0  trials left.\n",
            "Sorry, game over you exceeded your maximum trial count!\n"
          ]
        }
      ]
    }
  ]
}